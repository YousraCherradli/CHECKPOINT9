{
 "cells": [
  {
   "cell_type": "code",
   "execution_count": null,
   "id": "018e2fde",
   "metadata": {},
   "outputs": [],
   "source": [
    "filename = input(\"Enter the filename: \")\n",
    "\n",
    "with open(filename, \"r\") as file:\n",
    "    content = file.read()\n",
    "    print(content)\n"
   ]
  },
  {
   "cell_type": "code",
   "execution_count": null,
   "id": "336dc757",
   "metadata": {},
   "outputs": [],
   "source": [
    "filename = input(\"Enter the filename: \")\n",
    "n = int(input(\"Enter the number of lines: \"))\n",
    "\n",
    "with open(filename, \"r\") as file:\n",
    "    for i in range(n):\n",
    "        print(file.readline())\n"
   ]
  },
  {
   "cell_type": "code",
   "execution_count": null,
   "id": "b1bcd36d",
   "metadata": {},
   "outputs": [],
   "source": [
    "filename = input(\"Enter the filename: \")\n",
    "n = int(input(\"Enter the number of lines: \"))\n",
    "\n",
    "with open(filename, \"r\") as file:\n",
    "    lines = file.readlines()\n",
    "    for i in range(len(lines) - n, len(lines)):\n",
    "        print(lines[i])\n"
   ]
  },
  {
   "cell_type": "code",
   "execution_count": null,
   "id": "d2cb915c",
   "metadata": {},
   "outputs": [],
   "source": [
    "filename = input(\"Enter the filename: \")\n",
    "\n",
    "with open(filename, \"r\") as file:\n",
    "    content = file.read()\n",
    "    words = content.split()\n",
    "    print(\"Number of words: \", len(words))\n"
   ]
  },
  {
   "cell_type": "code",
   "execution_count": null,
   "id": "115c0bed",
   "metadata": {},
   "outputs": [],
   "source": [
    "filename = input(\"Enter the filename: \")\n",
    "n = int(input(\"Enter the number of lines: \"))\n",
    "\n",
    "with open(filename, \"r\") as file:\n",
    "    lines = file.readlines()\n",
    "    start = max(0, len(lines) - n)\n",
    "    for i in range(start, len(lines)):\n",
    "        print(lines[i])\n"
   ]
  },
  {
   "cell_type": "code",
   "execution_count": null,
   "id": "cba24ff1",
   "metadata": {},
   "outputs": [],
   "source": []
  }
 ],
 "metadata": {
  "kernelspec": {
   "display_name": "Python 3 (ipykernel)",
   "language": "python",
   "name": "python3"
  },
  "language_info": {
   "codemirror_mode": {
    "name": "ipython",
    "version": 3
   },
   "file_extension": ".py",
   "mimetype": "text/x-python",
   "name": "python",
   "nbconvert_exporter": "python",
   "pygments_lexer": "ipython3",
   "version": "3.9.13"
  }
 },
 "nbformat": 4,
 "nbformat_minor": 5
}
